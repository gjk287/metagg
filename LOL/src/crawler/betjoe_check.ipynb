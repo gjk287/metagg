{
 "cells": [
  {
   "cell_type": "code",
   "execution_count": 1,
   "metadata": {},
   "outputs": [],
   "source": [
    "from selenium import webdriver\n",
    "import pandas as pd\n",
    "import time"
   ]
  },
  {
   "cell_type": "code",
   "execution_count": 2,
   "metadata": {},
   "outputs": [],
   "source": [
    "driver = webdriver.Chrome(r'C:\\Users\\jjames\\iCloudDrive\\Desktop\\Cloud_Data\\Personal_Projects\\meta.gg\\chromedriver\\chromedriver.exe')"
   ]
  },
  {
   "cell_type": "code",
   "execution_count": 15,
   "metadata": {},
   "outputs": [],
   "source": [
    "driver.get('https://sports.betjoe.com/sport/esports')"
   ]
  },
  {
   "cell_type": "code",
   "execution_count": 17,
   "metadata": {},
   "outputs": [],
   "source": [
    "go_to_LOL(driver)"
   ]
  },
  {
   "cell_type": "code",
   "execution_count": 18,
   "metadata": {},
   "outputs": [],
   "source": [
    "show_all_league(driver)"
   ]
  },
  {
   "cell_type": "code",
   "execution_count": 24,
   "metadata": {
    "scrolled": true
   },
   "outputs": [
    {
     "name": "stdout",
     "output_type": "stream",
     "text": [
      "09 Sep Liyab Esports Panic Time\n",
      "\n",
      "10 Sep GamerLegion Movistar Riders\n",
      "\n",
      "10 Sep SuppUp eSports AGO ROGUE\n",
      "\n",
      "10 Sep Movistar Riders AGO ROGUE\n",
      "\n",
      "10 Sep GamerLegion SuppUp eSports\n",
      "\n",
      "10 Sep SuppUp eSports Movistar Riders\n",
      "\n",
      "10 Sep AGO ROGUE GamerLegion\n",
      "\n",
      "11 Sep LDLC Schalke Evolution\n",
      "\n",
      "11 Sep Morning Stars K1CK Neosurf\n",
      "\n",
      "11 Sep LDLC Morning Stars\n",
      "\n",
      "11 Sep K1CK Neosurf Schalke Evolution\n",
      "\n",
      "11 Sep Schalke Evolution Morning Stars\n",
      "\n",
      "11 Sep K1CK Neosurf LDLC\n",
      "\n",
      "12 Sep WLGaming Misfits Premier\n",
      "\n",
      "12 Sep Pompa Giants\n",
      "\n",
      "12 Sep Misfits Premier Giants\n",
      "\n",
      "12 Sep Pompa WLGaming\n",
      "\n",
      "12 Sep Misfits Premier Pompa\n",
      "\n",
      "12 Sep Giants WLGaming\n",
      "\n",
      "13 Sep GamersOrigin Fnatic Rising\n",
      "\n",
      "13 Sep Mousesports Intrepid Fox\n",
      "\n",
      "13 Sep Mousesports GamersOrigin\n",
      "\n",
      "13 Sep Intrepid Fox Fnatic Rising\n",
      "\n",
      "13 Sep Intrepid Fox GamersOrigin\n",
      "\n",
      "13 Sep Fnatic Rising Mousesports\n",
      "\n"
     ]
    }
   ],
   "source": [
    "all_group = driver.find_elements_by_class_name('_2v2WR')\n",
    "\n",
    "href_df = pd.DataFrame()\n",
    "count = 0\n",
    "for group in all_group:\n",
    "    league_name = group.find_element_by_class_name('_2K09p').text\n",
    "    all_game = group.find_elements_by_class_name('_1NtMe')\n",
    "    for game in all_game:\n",
    "        game_date = game.find_element_by_class_name('_3tR88').text\n",
    "        team_1 = game.find_element_by_class_name('OY9uM._3YXvb').text.split('\\n')[0]\n",
    "        team_2 = game.find_element_by_class_name('OY9uM._3YXvb').text.split('\\n')[-1]\n",
    "        print(game_date, team_1, team_2)\n",
    "        #print(game.text)\n",
    "        print()\n"
   ]
  },
  {
   "cell_type": "code",
   "execution_count": null,
   "metadata": {},
   "outputs": [],
   "source": []
  },
  {
   "cell_type": "code",
   "execution_count": null,
   "metadata": {},
   "outputs": [],
   "source": []
  },
  {
   "cell_type": "code",
   "execution_count": 11,
   "metadata": {},
   "outputs": [],
   "source": [
    "def go_to_LOL(driver):\n",
    "    game_list = driver.find_elements_by_class_name('CZBvE')\n",
    "    for game in game_list:\n",
    "        if game.find_element_by_css_selector('span').text == 'League of Legends':\n",
    "            lol_game = game\n",
    "    lol_game.find_element_by_css_selector('span').click()\n",
    "    time.sleep(10)\n",
    "    return"
   ]
  },
  {
   "cell_type": "code",
   "execution_count": 5,
   "metadata": {},
   "outputs": [],
   "source": [
    "def show_all_league(driver):\n",
    "    all_group = driver.find_elements_by_class_name('_2v2WR')\n",
    "    for group in all_group[1:]:\n",
    "        group.find_element_by_class_name('_2K09p').click()\n",
    "        time.sleep(3)\n",
    "    time.sleep(30)"
   ]
  },
  {
   "cell_type": "code",
   "execution_count": null,
   "metadata": {},
   "outputs": [],
   "source": []
  }
 ],
 "metadata": {
  "kernelspec": {
   "display_name": "game_data",
   "language": "python",
   "name": "game_data"
  },
  "language_info": {
   "codemirror_mode": {
    "name": "ipython",
    "version": 3
   },
   "file_extension": ".py",
   "mimetype": "text/x-python",
   "name": "python",
   "nbconvert_exporter": "python",
   "pygments_lexer": "ipython3",
   "version": "3.7.7"
  }
 },
 "nbformat": 4,
 "nbformat_minor": 4
}
